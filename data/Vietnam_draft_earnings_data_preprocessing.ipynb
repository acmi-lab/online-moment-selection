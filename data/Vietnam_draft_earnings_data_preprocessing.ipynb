{
  "nbformat": 4,
  "nbformat_minor": 0,
  "metadata": {
    "colab": {
      "name": "Vietnam draft earnings data preprocessing.ipynb",
      "provenance": []
    },
    "kernelspec": {
      "name": "python3",
      "display_name": "Python 3"
    },
    "language_info": {
      "name": "python"
    }
  },
  "cells": [
    {
      "cell_type": "markdown",
      "metadata": {
        "id": "68tt1sw5Nvae"
      },
      "source": [
        "Code to preprocess the Vietnam draft earnings data and generate the dataset used in our experiments."
      ]
    },
    {
      "cell_type": "code",
      "metadata": {
        "id": "3F9euI7OMzZw"
      },
      "source": [
        "import pandas as pd\n",
        "import numpy as np\n",
        "import os"
      ],
      "execution_count": null,
      "outputs": []
    },
    {
      "cell_type": "code",
      "metadata": {
        "id": "lVjR3zlYNeTf"
      },
      "source": [
        "DATA_DIR = \"\""
      ],
      "execution_count": null,
      "outputs": []
    },
    {
      "cell_type": "code",
      "metadata": {
        "colab": {
          "base_uri": "https://localhost:8080/",
          "height": 203
        },
        "id": "AIt4iBHLM-lH",
        "outputId": "ae12520a-987e-4cbf-a9c4-d0059d57cbac"
      },
      "source": [
        "df_cpi = pd.read_stata(os.path.join(DATA_DIR, \"cpi_angrist1990.dta\"))\n",
        "df_cpi.head()"
      ],
      "execution_count": null,
      "outputs": [
        {
          "output_type": "execute_result",
          "data": {
            "text/html": [
              "<div>\n",
              "<style scoped>\n",
              "    .dataframe tbody tr th:only-of-type {\n",
              "        vertical-align: middle;\n",
              "    }\n",
              "\n",
              "    .dataframe tbody tr th {\n",
              "        vertical-align: top;\n",
              "    }\n",
              "\n",
              "    .dataframe thead th {\n",
              "        text-align: right;\n",
              "    }\n",
              "</style>\n",
              "<table border=\"1\" class=\"dataframe\">\n",
              "  <thead>\n",
              "    <tr style=\"text-align: right;\">\n",
              "      <th></th>\n",
              "      <th>year</th>\n",
              "      <th>cpi</th>\n",
              "    </tr>\n",
              "  </thead>\n",
              "  <tbody>\n",
              "    <tr>\n",
              "      <th>0</th>\n",
              "      <td>66</td>\n",
              "      <td>97.199997</td>\n",
              "    </tr>\n",
              "    <tr>\n",
              "      <th>1</th>\n",
              "      <td>67</td>\n",
              "      <td>100.000000</td>\n",
              "    </tr>\n",
              "    <tr>\n",
              "      <th>2</th>\n",
              "      <td>68</td>\n",
              "      <td>104.199997</td>\n",
              "    </tr>\n",
              "    <tr>\n",
              "      <th>3</th>\n",
              "      <td>69</td>\n",
              "      <td>109.800003</td>\n",
              "    </tr>\n",
              "    <tr>\n",
              "      <th>4</th>\n",
              "      <td>70</td>\n",
              "      <td>116.300003</td>\n",
              "    </tr>\n",
              "  </tbody>\n",
              "</table>\n",
              "</div>"
            ],
            "text/plain": [
              "   year         cpi\n",
              "0    66   97.199997\n",
              "1    67  100.000000\n",
              "2    68  104.199997\n",
              "3    69  109.800003\n",
              "4    70  116.300003"
            ]
          },
          "metadata": {
            "tags": []
          },
          "execution_count": 13
        }
      ]
    },
    {
      "cell_type": "code",
      "metadata": {
        "colab": {
          "base_uri": "https://localhost:8080/",
          "height": 223
        },
        "id": "uDe8fBfsNHqm",
        "outputId": "bff366e8-ff1b-4a99-a0bd-c95a62dc06e2"
      },
      "source": [
        "df = pd.read_stata(os.path.join(DATA_DIR, \"cwhsc_new.dta\")).merge(df_cpi, on=\"year\")\n",
        "df.head()"
      ],
      "execution_count": null,
      "outputs": [
        {
          "output_type": "execute_result",
          "data": {
            "text/html": [
              "<div>\n",
              "<style scoped>\n",
              "    .dataframe tbody tr th:only-of-type {\n",
              "        vertical-align: middle;\n",
              "    }\n",
              "\n",
              "    .dataframe tbody tr th {\n",
              "        vertical-align: top;\n",
              "    }\n",
              "\n",
              "    .dataframe thead th {\n",
              "        text-align: right;\n",
              "    }\n",
              "</style>\n",
              "<table border=\"1\" class=\"dataframe\">\n",
              "  <thead>\n",
              "    <tr style=\"text-align: right;\">\n",
              "      <th></th>\n",
              "      <th>byr</th>\n",
              "      <th>race</th>\n",
              "      <th>year</th>\n",
              "      <th>type</th>\n",
              "      <th>interval</th>\n",
              "      <th>nj</th>\n",
              "      <th>nj0</th>\n",
              "      <th>p_xl</th>\n",
              "      <th>p_l</th>\n",
              "      <th>earnings</th>\n",
              "      <th>iweight</th>\n",
              "      <th>iweight_old</th>\n",
              "      <th>nsrvd</th>\n",
              "      <th>ps_r</th>\n",
              "      <th>ern74</th>\n",
              "      <th>ern75</th>\n",
              "      <th>ern76</th>\n",
              "      <th>ern77</th>\n",
              "      <th>ern78</th>\n",
              "      <th>ern79</th>\n",
              "      <th>ern80</th>\n",
              "      <th>ern81</th>\n",
              "      <th>ern82</th>\n",
              "      <th>ern83</th>\n",
              "      <th>ern84</th>\n",
              "      <th>cpi</th>\n",
              "    </tr>\n",
              "  </thead>\n",
              "  <tbody>\n",
              "    <tr>\n",
              "      <th>0</th>\n",
              "      <td>50</td>\n",
              "      <td>1</td>\n",
              "      <td>74</td>\n",
              "      <td>ADJ</td>\n",
              "      <td>1</td>\n",
              "      <td>8626.0</td>\n",
              "      <td>1352.420994</td>\n",
              "      <td>0.034807</td>\n",
              "      <td>0.023858</td>\n",
              "      <td>8853.940430</td>\n",
              "      <td>0.000246</td>\n",
              "      <td>0.000175</td>\n",
              "      <td>NaN</td>\n",
              "      <td>0.3527</td>\n",
              "      <td>1.0</td>\n",
              "      <td>0.771358</td>\n",
              "      <td>0.694835</td>\n",
              "      <td>0.568015</td>\n",
              "      <td>0.476504</td>\n",
              "      <td>0.407121</td>\n",
              "      <td>0.342708</td>\n",
              "      <td>0.472947</td>\n",
              "      <td>0.354887</td>\n",
              "      <td>0.387296</td>\n",
              "      <td>0.408793</td>\n",
              "      <td>147.699997</td>\n",
              "    </tr>\n",
              "    <tr>\n",
              "      <th>1</th>\n",
              "      <td>50</td>\n",
              "      <td>2</td>\n",
              "      <td>74</td>\n",
              "      <td>ADJ</td>\n",
              "      <td>2</td>\n",
              "      <td>2554.0</td>\n",
              "      <td>835.965006</td>\n",
              "      <td>0.030128</td>\n",
              "      <td>0.010467</td>\n",
              "      <td>7715.842285</td>\n",
              "      <td>0.000067</td>\n",
              "      <td>0.000038</td>\n",
              "      <td>NaN</td>\n",
              "      <td>0.1354</td>\n",
              "      <td>1.0</td>\n",
              "      <td>0.673253</td>\n",
              "      <td>0.602785</td>\n",
              "      <td>0.500004</td>\n",
              "      <td>0.431862</td>\n",
              "      <td>0.418737</td>\n",
              "      <td>0.392203</td>\n",
              "      <td>0.216962</td>\n",
              "      <td>0.238426</td>\n",
              "      <td>0.256590</td>\n",
              "      <td>0.405801</td>\n",
              "      <td>147.699997</td>\n",
              "    </tr>\n",
              "    <tr>\n",
              "      <th>2</th>\n",
              "      <td>50</td>\n",
              "      <td>1</td>\n",
              "      <td>74</td>\n",
              "      <td>TAXAB</td>\n",
              "      <td>1</td>\n",
              "      <td>8626.0</td>\n",
              "      <td>1352.420994</td>\n",
              "      <td>0.034807</td>\n",
              "      <td>0.023858</td>\n",
              "      <td>8721.841797</td>\n",
              "      <td>0.000280</td>\n",
              "      <td>0.000192</td>\n",
              "      <td>NaN</td>\n",
              "      <td>0.3527</td>\n",
              "      <td>1.0</td>\n",
              "      <td>0.727691</td>\n",
              "      <td>0.650036</td>\n",
              "      <td>0.515821</td>\n",
              "      <td>0.428415</td>\n",
              "      <td>0.401066</td>\n",
              "      <td>0.323062</td>\n",
              "      <td>0.427432</td>\n",
              "      <td>0.293612</td>\n",
              "      <td>0.379930</td>\n",
              "      <td>0.420998</td>\n",
              "      <td>147.699997</td>\n",
              "    </tr>\n",
              "    <tr>\n",
              "      <th>3</th>\n",
              "      <td>50</td>\n",
              "      <td>2</td>\n",
              "      <td>74</td>\n",
              "      <td>TAXAB</td>\n",
              "      <td>1</td>\n",
              "      <td>2859.0</td>\n",
              "      <td>940.916991</td>\n",
              "      <td>0.030168</td>\n",
              "      <td>0.012548</td>\n",
              "      <td>7431.774902</td>\n",
              "      <td>0.000078</td>\n",
              "      <td>0.000045</td>\n",
              "      <td>NaN</td>\n",
              "      <td>0.1957</td>\n",
              "      <td>1.0</td>\n",
              "      <td>0.657727</td>\n",
              "      <td>0.603769</td>\n",
              "      <td>0.486817</td>\n",
              "      <td>0.402789</td>\n",
              "      <td>0.444585</td>\n",
              "      <td>0.394048</td>\n",
              "      <td>0.247825</td>\n",
              "      <td>0.256259</td>\n",
              "      <td>0.268377</td>\n",
              "      <td>0.402271</td>\n",
              "      <td>147.699997</td>\n",
              "    </tr>\n",
              "    <tr>\n",
              "      <th>4</th>\n",
              "      <td>50</td>\n",
              "      <td>1</td>\n",
              "      <td>74</td>\n",
              "      <td>ADJ</td>\n",
              "      <td>2</td>\n",
              "      <td>7390.0</td>\n",
              "      <td>1228.629999</td>\n",
              "      <td>0.048489</td>\n",
              "      <td>0.020302</td>\n",
              "      <td>9227.352539</td>\n",
              "      <td>0.000199</td>\n",
              "      <td>0.000138</td>\n",
              "      <td>NaN</td>\n",
              "      <td>0.1933</td>\n",
              "      <td>1.0</td>\n",
              "      <td>0.771358</td>\n",
              "      <td>0.694835</td>\n",
              "      <td>0.568015</td>\n",
              "      <td>0.476504</td>\n",
              "      <td>0.407121</td>\n",
              "      <td>0.342708</td>\n",
              "      <td>0.472947</td>\n",
              "      <td>0.354887</td>\n",
              "      <td>0.387296</td>\n",
              "      <td>0.408793</td>\n",
              "      <td>147.699997</td>\n",
              "    </tr>\n",
              "  </tbody>\n",
              "</table>\n",
              "</div>"
            ],
            "text/plain": [
              "   byr  race  year   type  ...     ern82     ern83     ern84         cpi\n",
              "0   50     1    74    ADJ  ...  0.354887  0.387296  0.408793  147.699997\n",
              "1   50     2    74    ADJ  ...  0.238426  0.256590  0.405801  147.699997\n",
              "2   50     1    74  TAXAB  ...  0.293612  0.379930  0.420998  147.699997\n",
              "3   50     2    74  TAXAB  ...  0.256259  0.268377  0.402271  147.699997\n",
              "4   50     1    74    ADJ  ...  0.354887  0.387296  0.408793  147.699997\n",
              "\n",
              "[5 rows x 26 columns]"
            ]
          },
          "metadata": {
            "tags": []
          },
          "execution_count": 14
        }
      ]
    },
    {
      "cell_type": "code",
      "metadata": {
        "colab": {
          "base_uri": "https://localhost:8080/",
          "height": 203
        },
        "id": "qlWiBkWiNJo0",
        "outputId": "00c0e322-d075-4109-ce21-8eeac5d1bac4"
      },
      "source": [
        "df = df[np.logical_and(df[\"race\"] == 1, df[\"byr\"] == 51)]\n",
        "df[\"eligible\"] = (df[\"interval\"] <= 25).astype(int)\n",
        "df[\"earnings_normed\"] = df[\"earnings\"] * 100 / df[\"cpi\"]\n",
        "df = df[[\"eligible\", \"earnings_normed\"]].reset_index()\n",
        "df.head()"
      ],
      "execution_count": null,
      "outputs": [
        {
          "output_type": "execute_result",
          "data": {
            "text/html": [
              "<div>\n",
              "<style scoped>\n",
              "    .dataframe tbody tr th:only-of-type {\n",
              "        vertical-align: middle;\n",
              "    }\n",
              "\n",
              "    .dataframe tbody tr th {\n",
              "        vertical-align: top;\n",
              "    }\n",
              "\n",
              "    .dataframe thead th {\n",
              "        text-align: right;\n",
              "    }\n",
              "</style>\n",
              "<table border=\"1\" class=\"dataframe\">\n",
              "  <thead>\n",
              "    <tr style=\"text-align: right;\">\n",
              "      <th></th>\n",
              "      <th>index</th>\n",
              "      <th>eligible</th>\n",
              "      <th>earnings_normed</th>\n",
              "    </tr>\n",
              "  </thead>\n",
              "  <tbody>\n",
              "    <tr>\n",
              "      <th>0</th>\n",
              "      <td>5</td>\n",
              "      <td>0</td>\n",
              "      <td>5288.552734</td>\n",
              "    </tr>\n",
              "    <tr>\n",
              "      <th>1</th>\n",
              "      <td>6</td>\n",
              "      <td>1</td>\n",
              "      <td>5445.729492</td>\n",
              "    </tr>\n",
              "    <tr>\n",
              "      <th>2</th>\n",
              "      <td>7</td>\n",
              "      <td>1</td>\n",
              "      <td>5051.804199</td>\n",
              "    </tr>\n",
              "    <tr>\n",
              "      <th>3</th>\n",
              "      <td>8</td>\n",
              "      <td>1</td>\n",
              "      <td>5283.813965</td>\n",
              "    </tr>\n",
              "    <tr>\n",
              "      <th>4</th>\n",
              "      <td>9</td>\n",
              "      <td>0</td>\n",
              "      <td>5841.556641</td>\n",
              "    </tr>\n",
              "  </tbody>\n",
              "</table>\n",
              "</div>"
            ],
            "text/plain": [
              "   index  eligible  earnings_normed\n",
              "0      5         0      5288.552734\n",
              "1      6         1      5445.729492\n",
              "2      7         1      5051.804199\n",
              "3      8         1      5283.813965\n",
              "4      9         0      5841.556641"
            ]
          },
          "metadata": {
            "tags": []
          },
          "execution_count": 15
        }
      ]
    },
    {
      "cell_type": "code",
      "metadata": {
        "id": "yG-ABQPANQA3"
      },
      "source": [
        "df.to_csv(os.path.join(DATA_DIR, \"angrist_1951_cohort.csv\"), index=False)"
      ],
      "execution_count": null,
      "outputs": []
    }
  ]
}